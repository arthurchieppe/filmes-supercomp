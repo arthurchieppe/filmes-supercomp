{
 "cells": [
  {
   "attachments": {},
   "cell_type": "markdown",
   "metadata": {},
   "source": [
    "# Relatório Parcial Projeto de Supercomputação\n",
    "\n",
    "## Aluno: Arthur Gomes Chieppe\n",
    "\n",
    "Algortimos implementados:\n",
    "* Gulosa\n",
    "* Gulosa aleatória\n"
   ]
  },
  {
   "attachments": {},
   "cell_type": "markdown",
   "metadata": {},
   "source": [
    "## Etapa 1: Geração dos arquivos de input"
   ]
  },
  {
   "attachments": {},
   "cell_type": "markdown",
   "metadata": {},
   "source": [
    "### 1.1 Gerador automatizado\n",
    "\n",
    "Para a geração dos arquivos de input do algoritmo, foi utilizado o código em C++ disponibilizado na página de introdução do projeto. Nenhum alteração foi feita, e o código encontra-se em /input_generator/gerador.cpp.\n",
    "\n",
    "Foi desenvolvido um programa em Python responsável por rodar o gerador supracitado. Dessa forma, é possível especificar o número máximo de filmes e categorias que deseja-se gerar. O programa está localizado em `/input_generator/generate_inputs.py`, sendo que o C++ compilado tem de estar na mesma pasta. Os arquivos gerados são salvos em um novo diretório, em `/input_generator/input_files/`.O modo de uso do programa pode ser acessado com a flag --help, e está replicado abaixo:\n",
    "\n",
    "```\n",
    "python3 generate_inputs.py --help\n",
    "usage: generate_inputs.py [-h] [--n_movies N_MOVIES] [--n_cat N_CAT]\n",
    "\n",
    "Generate inputs for the model\n",
    "\n",
    "options:\n",
    "  -h, --help           show this help message and exit\n",
    "  --n_movies N_MOVIES  Number of movies to generate\n",
    "  --n_cat N_CAT        Number of categories to generate\n",
    "```\n"
   ]
  },
  {
   "attachments": {},
   "cell_type": "markdown",
   "metadata": {},
   "source": [
    "Note que o gerador gerará os filmes respeitando um intervalo de 50 filmes entre os arquivos de inputs gerados."
   ]
  },
  {
   "attachments": {},
   "cell_type": "markdown",
   "metadata": {},
   "source": [
    "## Etapa 2: A Heurística Gulosa"
   ]
  },
  {
   "attachments": {},
   "cell_type": "markdown",
   "metadata": {},
   "source": [
    "### 2.1 Definição de Escopo e Regras dos Algortimos\n",
    "\n",
    "Foram feitas escolhas por questões de padronização e coerência dos resultados a serem obtidos. As regras abaixo são gerais, portanto valeu tanto para a heurística gulosa quanto a aleatória.\n",
    "\n",
    "1. Não são admitidos filmes que tem datas de início e fim em dias diferentes. (Ex: início às 23 e fim às 2)\n",
    "2. Não são admitidos filmes que começam e terminam no mesmo horário, pois isso implicaria em duração igual a 0. (Ex: início às 15 e fim às 15)\n",
    "\n",
    "Os filmes que se enquadram em qualquer uma das situações acima são considerados inválidos, portanto não podem ser adicionados ao quadro de horários.\n"
   ]
  },
  {
   "attachments": {},
   "cell_type": "markdown",
   "metadata": {},
   "source": [
    " ### 2.2 O algoritmo\n",
    "\n",
    " Inicialmente, implementou-se um algortimo com abordagem gulosa para a resolução do problema. De forma simplória, a abordagem escolhida baseia-se em:\n",
    "\n",
    " 1. Ordenar os filmes por hora de fim crescente.\n",
    " 2. Percorrer a lista de filmes ordenada, verificando se cabem no quadro de horários.\n",
    " 3. Verificar se há vagas disponíveis para a categoria do filme em questão\n",
    "\n",
    "Se forem satisfeitas as condições 2 e 3, o filme é adicionado ao quadro de horários.\n",
    " "
   ]
  },
  {
   "attachments": {},
   "cell_type": "markdown",
   "metadata": {},
   "source": [
    "### 2.3 Implementação em C++\n",
    "\n",
    "A implementação do algoritmo está disponível em `heuristicas/gulosa/gulosa_filmes.cpp`. A compilação pode ser feita com o comando: `g++ gulosa_filmes.cpp -Wall -O3 -g -o gulosa` (assumindo que o usuário encontra-se na pasta do arquivo). Usuários de Apple Silicon podem compilar com `g++-12 gulosa_filmes.cpp -Wall -O3 -g -o gulosa`."
   ]
  },
  {
   "attachments": {},
   "cell_type": "markdown",
   "metadata": {},
   "source": [
    "### 2.3.1 Varíaveis\n",
    "\n",
    "1. `struct filme {int h_inicio; int h_fim; int cat; }`\n",
    "\n",
    "* Struct que representa um filme, com horário de início, horário de fim e categoria a qual pertence, respectivamente.\n",
    "\n",
    "2. `bool timetable[24]`\n",
    "* Array de booleanos de tamanho 24, representando as horas do dia a serem ocupadas pelos filmes.\n",
    "* Todos os valores são inicados como false.\n",
    "* Obs: como pode ser constatado no código fonte, um filme que dure das 10 até às 11 ocupa apenas o timetable[10], de forma que seja possível que outro filme comece às 11.\n",
    "\n",
    "3. `vector<int> categorias`\n",
    "* Vetor de inteiros que representa as categorias dos filmes.\n",
    "* Cada posição do vetor representa uma categoria, e o valor armazenado é a quantidade máxima de filmes que a categoria pode ter no quadro de horários.\n",
    "* Ex: categorias[0] = 2, significa que a categoria 1 pode ter no máximo 2 filmes no quadro de horários. (o indice sempre é n-1)\n",
    "\n",
    "4. `long unsigned int allowed_number_movies`\n",
    "\n",
    "* Variável que representa o número máximo de filmes que podem ser adicionados ao quadro de horários. Obtido a partir da soma do número de filmes permitidos para cada categoria.\n",
    "* Ex: se categorias[0] = 2 e categorias[1] = 3, então allowed_number_movies = 5. Dessa forma, o quadro de horários pode ter no máximo 5 filmes. Se atingido, o algoritmo para, significando uma solução ótima no que diz respeito ao número de filmes.\n",
    "* Como não permite-se que um filme comece e termine no mesmo horário, o número máximo de filmes é sempre menor que o número de horas do dia, sendo nesse caso 23.\n",
    "\n",
    "5. `vector<filmes> filmes`\n",
    "* Vetor de structs que representa os filmes do arquivo de input.\n",
    "* Cada posição do vetor representa um filme, e o valor armazenado é uma struct filme com os dados do filme.\n",
    "* Ex: filmes[0] = {10, 11, 2}, significa que o filme 1 começa às 10 e termina às 11, e pertence à categoria 2.\n",
    "\n",
    "6. `vector<filmes> programacao`\n",
    "* Vetor de structs que representa os filmes que foram adicionados ao quadro de horários.\n",
    "* Cada posição do vetor representa um filme, e o valor armazenado é uma struct filme com os dados do filme.\n",
    "* Ex: programacao[0] = {10, 11, 2}, significa que o filme 1 começa às 10 e termina às 11, e pertence à categoria 2 foi adicionado.\n",
    "\n",
    "7. `int n_filmes`\n",
    "* Variável que representa o número de filmes do arquivo de input.\n",
    "* Obtido a partir da primeira linha do arquivo de input.\n",
    "\n",
    "8. `int n_cat`\n",
    "* Variável que representa o número de categorias do arquivo de input.\n",
    "* Obtido a partir da segunda linha do arquivo de input.\n",
    "\n",
    "9. `int total_number_of_hours`\n",
    "* Variável que representa o número total de horas preenchidas por filmes no quadro de horários.\n",
    "* Obtido a partir da soma do tempo de todos os filmes adicionados ao quadro de horários."
   ]
  },
  {
   "attachments": {},
   "cell_type": "markdown",
   "metadata": {},
   "source": [
    "### 2.3.2 Funções\n",
    "\n",
    "1. `bool is_available(filme &el, bool (&timetable)[24], vector<int> &categorias)`\n",
    "   * Verifica se um filme está disponível em uma determinada hora e categoria.\n",
    "   * Recebe um objeto do tipo 'filme', um array de booleanos de tamanho 24 e um vetor de inteiros (categorias).\n",
    "   * Retorna true se o filme está disponível, caso contrário, retorna false.\n",
    "\n",
    "2. `void print_filmes(vector<filme> &filmes)`\n",
    "   * Imprime na saída padrão o número total de filmes e a lista completa de filmes com suas respectivas informações (output gráfico).\n",
    "   * Recebe um vetor de objetos do tipo 'filme'.\n",
    "   * Não retorna nada.\n",
    "\n",
    "3. `bool should_break(int &total_number_of_hours, long unsigned int &allowed_number_movies, vector<filme> &programacao)`\n",
    "   * Verifica se o número total de horas de filmes exibidos ou o número máximo de filmes permitidos já foi alcançado.\n",
    "   * Recebe um inteiro 'total_number_of_hours', um inteiro longo sem sinal 'allowed_number_movies' e um vetor de objetos do tipo 'filme'.\n",
    "   * Retorna true se o número máximo de horas de filmes exibidos ou o número máximo de filmes permitidos foi alcançado, caso contrário, retorna false.\n",
    "\n",
    "4. `void add_to_timetable(filme &el, bool (&timetable)[24], vector<int> &categorias, vector<filme> &programacao, int &total_number_of_hours)`\n",
    "   * Adiciona um filme na tabela de horários e atualiza o número total de horas de filmes exibidos e o número total de filmes.\n",
    "   * Recebe um objeto do tipo 'filme', um array de booleanos de tamanho 24, um vetor de inteiros, um vetor de objetos do tipo 'filme' e um inteiro 'total_number_of_hours'.\n",
    "   * Não retorna nada.\n"
   ]
  },
  {
   "attachments": {},
   "cell_type": "markdown",
   "metadata": {},
   "source": [
    "### 2.3.3 Funcionamento do algoritmo\n",
    "\n",
    "Após recebidos e armazenados os filmes do arquivo de input, o algoritmo começa então a ordernar os filmes por ordem crescente de horário de fim usando a função `sort`. Em seguida, percorre cada filme na ordem da lista, e verifica se ele pode ser exibido com ajuda da função `is_available`. Se o filme puder ser exibido, ele é adicionado ao quadro de horários e à programação com a função `add_to_timetable`. Caso contrário, o algoritmo passa para o próximo filme. O algoritmo para quando o número máximo de filmes permitidos ou o número máximo de horas de filmes exibidos é alcançado. Naturalmente, ele também para quando todos os filmes forem percorridos.\n",
    "\n",
    "Por fim, o programa verifica se o número máximo de horas foi alcançado ou se todos os filmes já foram adicionados à programacao. Se alguma dessas condições for verdadeira, a execução do loop é interrompida e a função `print_filmes` é chamada para imprimir os filmes presentes na programacao. Se algum argumento de linha de comando foi fornecido, o número total de filmes e de horas é impresso na saída padrão. Esse recurso é utilizado para a realização dos testes de desempenho do algoritmo com um programa python, de forma que o tempo de execução do algoritmo não seja influenciado pela impressão dos resultados. O argumento a ser fornecido é qualquer string, como por exemplo \"teste\"."
   ]
  },
  {
   "attachments": {},
   "cell_type": "markdown",
   "metadata": {},
   "source": [
    "### 2.3.4 Output gráfico\n",
    "\n",
    "Um exemplo de output gráfico é está dispoível abaixo:\n",
    "\n",
    "<!-- Show image on folder /img -->\n",
    "\n",
    "![Output gráfico](./img/output_grafico.png)"
   ]
  },
  {
   "attachments": {},
   "cell_type": "markdown",
   "metadata": {},
   "source": [
    "## Etapa 3: Heurística Gulosa com Aleatoriedade"
   ]
  },
  {
   "attachments": {},
   "cell_type": "markdown",
   "metadata": {},
   "source": [
    "# 3.1 As diferenças\n",
    "\n",
    "Como os algortimos em questão diferem pouco em sua implementação, serão apontadas apenas as diferenças entre eles, de forma a evitar repetições.\n",
    "\n",
    "A principal diferença está no componente de aleatoriedade inserida na heurística gulosa. A heurística gulosa é um algoritmo que sempre escolhe a melhor opção no momento, mas não garante que a solução encontrada seja a melhor possível. A inserção de um componente de aleatoriedade faz com que o algoritmo tenha a chance de escolher aleatoriamente as melhores opções, aumentando a chance de encontrar uma solução melhor. Dessa forma, aumenta-se o exploration no espaço de soluções, o que pode ser útil para encontrar uma solução melhor.\n",
    "\n",
    "Assim, o algoritmo guloso com aleatoriedade funciona da seguinte forma:\n",
    "\n",
    "1. Ordena os filmes por ordem crescente de horário de fim.\n",
    "2. Percorrer a lista de filmes ordenada, verificando se cabem no quadro de horários.\n",
    "3. Verificar se há vagas disponíveis para a categoria do filme em questão\n",
    "4. Existe uma chance de 25% do algortimo tentar inserir um filme qualquer (que não já foi processado pelo for loop). Se o filme sorteado couber no quadro de horários, ele é adicionado. Caso contrário, o algoritmo segue para o próximo filme da lista."
   ]
  },
  {
   "attachments": {},
   "cell_type": "markdown",
   "metadata": {},
   "source": [
    "# 3.2 O algortimo guloso com aleatoriedade "
   ]
  },
  {
   "attachments": {},
   "cell_type": "markdown",
   "metadata": {},
   "source": [
    "### 3.2.1 Funções e Variáveis\n",
    "\n",
    "As funções são as mesmas utilizadas no algoritmo guloso com aleatoriedade são as mesmas utilizadas no algoritmo guloso.\n",
    "\n",
    "As variáveis adicionadas são:\n",
    "\n",
    "1. `default_random_engine generator`\n",
    "    * Gerador de números aleatórios.\n",
    "\n",
    "2. `uniform_real_distribution<double> distribution(start, end)`\n",
    "    * Distribuição uniforme de números aleatórios entre *start* e *end*;\n",
    "\n",
    "3. `int i`\n",
    "    * Variável que representa o índice do filme atual.\n",
    "    * Usada para evitar com que o algoritmo sorteie um filme que já foi processado pelo *for loop* principal.\n",
    "\n"
   ]
  },
  {
   "attachments": {},
   "cell_type": "markdown",
   "metadata": {},
   "source": [
    "### 3.2.2 Funcionamento do algoritmo\n",
    "\n",
    "Como dito anteriormente, o algoritmo guloso com aleatoriedade funciona praticamente da mesma forma que o algoritmo guloso.\n",
    "\n",
    "A aleatoriedade está presente em cada iteração do loop principal. A cada iteração, é gerado um número aleatório entre 0 e 1. Se o número gerado for maior que 0.75, o algoritmo escolhe um filme aleatório da lista de filmes restantes e tenta adicioná-lo à programação, seguindo as mesmas restrições de disponibilidade. Se o filme escolhido puder ser adicionado à programação, ele é adicionado e removido da lista de filmes restantes. Caso contrário, o algoritmo segue para o próximo filme da lista.\n"
   ]
  },
  {
   "attachments": {},
   "cell_type": "markdown",
   "metadata": {},
   "source": [
    "### 3.2.3 Implementação em C++\n",
    "\n",
    "A implementação do algoritmo está disponível em `heuristicas/aleatoria/aleatoria_filmes.cpp`. A compilação pode ser feita com o comando: `g++ aleatoria_fimles.cpp -Wall -O3 -g -o aleatoria` (assumindo que o usuário encontra-se na pasta do arquivo). Usuários de Apple Silicon podem compilar com `g++-12 aleatoria_filmes.cpp -Wall -O3 -g -o aleatoria`."
   ]
  },
  {
   "attachments": {},
   "cell_type": "markdown",
   "metadata": {},
   "source": [
    "### 3.2.4 Output gráfico\n",
    "\n",
    "O output gráfico do algoritmo guloso com aleatoriedade é o mesmo do algoritmo guloso."
   ]
  },
  {
   "cell_type": "markdown",
   "metadata": {},
   "source": []
  }
 ],
 "metadata": {
  "language_info": {
   "name": "python"
  },
  "orig_nbformat": 4
 },
 "nbformat": 4,
 "nbformat_minor": 2
}
